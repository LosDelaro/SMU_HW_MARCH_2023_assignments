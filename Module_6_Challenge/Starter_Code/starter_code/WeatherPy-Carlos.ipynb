{
 "cells": [
  {
   "cell_type": "markdown",
   "metadata": {},
   "source": [
    "# WeatherPy\n",
    "\n",
    "---\n",
    "\n",
    "## Starter Code to Generate Random Geographic Coordinates and a List of Cities"
   ]
  },
  {
   "cell_type": "code",
   "execution_count": 1,
   "metadata": {
    "scrolled": true
   },
   "outputs": [],
   "source": [
    "# Dependencies and Setup\n",
    "import matplotlib.pyplot as plt\n",
    "import pandas as pd\n",
    "import numpy as np\n",
    "import requests\n",
    "import time\n",
    "from scipy.stats import linregress\n",
    "\n",
    "# Impor the OpenWeatherMap API key\n",
    "from api_keys import weather_api_key\n",
    "\n",
    "# Import citipy to determine the cities based on latitude and longitude\n",
    "from citipy import citipy"
   ]
  },
  {
   "cell_type": "markdown",
   "metadata": {},
   "source": [
    "### Generate the Cities List by Using the `citipy` Library"
   ]
  },
  {
   "cell_type": "code",
   "execution_count": 2,
   "metadata": {},
   "outputs": [
    {
     "name": "stdout",
     "output_type": "stream",
     "text": [
      "Number of cities in the list: 602\n"
     ]
    }
   ],
   "source": [
    "# Empty list for holding the latitude and longitude combinations\n",
    "lat_lngs = []\n",
    "\n",
    "# Empty list for holding the cities names\n",
    "cities = []\n",
    "\n",
    "# Range of latitudes and longitudes\n",
    "lat_range = (-90, 90)\n",
    "lng_range = (-180, 180)\n",
    "\n",
    "# Create a set of random lat and lng combinations\n",
    "lats = np.random.uniform(lat_range[0], lat_range[1], size=1500)\n",
    "lngs = np.random.uniform(lng_range[0], lng_range[1], size=1500)\n",
    "lat_lngs = zip(lats, lngs)\n",
    "\n",
    "# Identify nearest city for each lat, lng combination\n",
    "for lat_lng in lat_lngs:\n",
    "    city = citipy.nearest_city(lat_lng[0], lat_lng[1]).city_name\n",
    "    \n",
    "    # If the city is unique, then add it to a our cities list\n",
    "    if city not in cities:\n",
    "        cities.append(city)\n",
    "\n",
    "# Print the city count to confirm sufficient count\n",
    "print(f\"Number of cities in the list: {len(cities)}\")"
   ]
  },
  {
   "cell_type": "markdown",
   "metadata": {},
   "source": [
    "---"
   ]
  },
  {
   "cell_type": "code",
   "execution_count": 3,
   "metadata": {},
   "outputs": [
    {
     "data": {
      "text/plain": [
       "['bethel',\n",
       " 'udachny',\n",
       " 'margaret river',\n",
       " 'thompson',\n",
       " 'binh long',\n",
       " 'haninge',\n",
       " 'rongelap',\n",
       " 'stanley',\n",
       " 'adamstown',\n",
       " 'college',\n",
       " 'waitangi',\n",
       " 'kavieng',\n",
       " 'hafar al-batin',\n",
       " 'port-aux-francais',\n",
       " 'hermanus',\n",
       " 'ushuaia',\n",
       " 'grytviken',\n",
       " 'mount gambier',\n",
       " 'puerto leguizamo',\n",
       " \"nar'yan-mar\",\n",
       " 'sandnessjoen',\n",
       " 'edinburgh of the seven seas',\n",
       " 'papatowai',\n",
       " 'amurzet',\n",
       " \"kapa'a\",\n",
       " 'remire-montjoly',\n",
       " 'aguadilla',\n",
       " 'maceio',\n",
       " 'west island',\n",
       " 'iqaluit',\n",
       " 'tralee',\n",
       " 'elista',\n",
       " 'tura',\n",
       " 'bredasdorp',\n",
       " 'puerto ayora',\n",
       " 'old orchard beach',\n",
       " 'mpongwe',\n",
       " 'vilyuysk',\n",
       " 'albany',\n",
       " 'port elizabeth',\n",
       " 'steinbach',\n",
       " 'invercargill',\n",
       " 'sterlibashevo',\n",
       " 'susuman',\n",
       " 'huarmey',\n",
       " 'ilulissat',\n",
       " 'pisco',\n",
       " 'belmonte',\n",
       " 'rio grande',\n",
       " 'mora',\n",
       " 'ketchikan',\n",
       " 'barra do garcas',\n",
       " 'panevezys',\n",
       " 'constantia',\n",
       " 'isafjordur',\n",
       " 'georgetown',\n",
       " 'arraial do cabo',\n",
       " 'blackmans bay',\n",
       " 'kuruman',\n",
       " 'iskateley',\n",
       " 'quellon',\n",
       " 'tiksi',\n",
       " 'farafangana',\n",
       " 'avarua',\n",
       " 'filey',\n",
       " 'puerto natales',\n",
       " 'wajir',\n",
       " 'warman',\n",
       " 'badger',\n",
       " 'namie',\n",
       " 'antonio enes',\n",
       " 'vila velha',\n",
       " 'qaqortoq',\n",
       " 'kuloy',\n",
       " 'palu',\n",
       " \"'ohonua\",\n",
       " 'ribeira grande',\n",
       " 'klyuchi',\n",
       " 'punta arenas',\n",
       " 'karymskoye',\n",
       " 'olonkinbyen',\n",
       " 'bargara',\n",
       " 'ust-nera',\n",
       " 'cole harbour',\n",
       " 'codrington',\n",
       " 'hamilton',\n",
       " 'labytnangi',\n",
       " 'nsanje',\n",
       " 'lebu',\n",
       " 'kirakira',\n",
       " 'igarka',\n",
       " 'yellowknife',\n",
       " 'alesund',\n",
       " 'taiohae',\n",
       " 'flin flon',\n",
       " 'selfoss',\n",
       " 'el calafate',\n",
       " 'belogorsk',\n",
       " 'luocheng',\n",
       " 'dokkum',\n",
       " 'tazacorte',\n",
       " 'esil',\n",
       " 'solnechnyy',\n",
       " 'sechura',\n",
       " 'port macquarie',\n",
       " 'baise city',\n",
       " 'kone',\n",
       " 'petropavlovsk-kamchatsky',\n",
       " 'brookings',\n",
       " 'vorgashor',\n",
       " 'port mathurin',\n",
       " 'pathein',\n",
       " 'vingt cinq',\n",
       " 'shohimardon',\n",
       " 'great falls',\n",
       " 'bandon',\n",
       " 'katsuren-haebaru',\n",
       " 'ballina',\n",
       " 'san antonio',\n",
       " 'mulayjah',\n",
       " 'itoman',\n",
       " 'acarau',\n",
       " 'saint croix',\n",
       " 'coyhaique',\n",
       " 'lhokseumawe',\n",
       " 'hasaki',\n",
       " 'saint-louis',\n",
       " 'sitka',\n",
       " 'juan griego',\n",
       " 'dudinka',\n",
       " 'barysaw',\n",
       " 'baragua',\n",
       " 'anadyr',\n",
       " 'arteche',\n",
       " 'chibougamau',\n",
       " 'tranqueras',\n",
       " 'atafu village',\n",
       " 'sur',\n",
       " 'tucupita',\n",
       " \"st. john's\",\n",
       " 'aioun',\n",
       " 'charters towers',\n",
       " 'santa ana',\n",
       " 'nizao',\n",
       " 'sanctuary point',\n",
       " \"n'zeto\",\n",
       " 'mezhdurechensk',\n",
       " 'antofagasta',\n",
       " 'wailua homesteads',\n",
       " 'crane',\n",
       " 'mamala',\n",
       " 'monetnyy',\n",
       " 'jaicos',\n",
       " 'chonchi',\n",
       " 'hami',\n",
       " 'guerrero negro',\n",
       " 'tamanrasset',\n",
       " 'champerico',\n",
       " 'ta`u',\n",
       " 'linda',\n",
       " 'sebring',\n",
       " 'dayr hafir',\n",
       " 'ouellah',\n",
       " 'hithadhoo',\n",
       " 'kadiri',\n",
       " 'daru',\n",
       " 'santana',\n",
       " 'puerto lempira',\n",
       " 'saipan',\n",
       " 'nova sintra',\n",
       " 'cidreira',\n",
       " 'fort wellington',\n",
       " 'fort st. john',\n",
       " 'lihue',\n",
       " 'manta',\n",
       " 'touros',\n",
       " 'contai',\n",
       " 'devinuwara',\n",
       " 'errachidia',\n",
       " 'port moresby',\n",
       " 'whitehorse',\n",
       " 'pandan',\n",
       " 'dhidhdhoo',\n",
       " \"la'ie\",\n",
       " 'saint-pierre',\n",
       " 'griffith',\n",
       " 'okhotsk',\n",
       " 'ghadamis',\n",
       " 'egilsstadir',\n",
       " 'zhezqazghan',\n",
       " 'sosnovo-ozerskoye',\n",
       " 'betio village',\n",
       " 'xianshuigu',\n",
       " 'tongouson',\n",
       " 'pointe michel',\n",
       " 'nagqu',\n",
       " 'yangor',\n",
       " 'newnham',\n",
       " 'tazovsky',\n",
       " 'choibalsan',\n",
       " 'revelstoke',\n",
       " 'tsengel',\n",
       " 'cam ranh',\n",
       " 'dire',\n",
       " 'puerto san carlos',\n",
       " 'kingston',\n",
       " 'amga',\n",
       " 'vegreville',\n",
       " 'fort bragg',\n",
       " 'zeya',\n",
       " 'caleta de carquin',\n",
       " 'antsiranana',\n",
       " 'dakar',\n",
       " 'jerantut',\n",
       " 'gore',\n",
       " 'zhicheng',\n",
       " 'lata',\n",
       " 'aykhal',\n",
       " 'montagu',\n",
       " 'vadso',\n",
       " 'nabire',\n",
       " 'cockburn town',\n",
       " 'broken hill',\n",
       " 'northam',\n",
       " 'san agustin de valle fertil',\n",
       " 'thunder bay',\n",
       " 'weno',\n",
       " 'vernon',\n",
       " 'amarante do maranhao',\n",
       " 'lazaro cardenas',\n",
       " 'funadhoo',\n",
       " 'svetlyy',\n",
       " 'tambovka',\n",
       " 'urbano santos',\n",
       " 'east london',\n",
       " 'claremont',\n",
       " 'brandon',\n",
       " 'san felipe',\n",
       " 'bilibino',\n",
       " 'ntossoni',\n",
       " 'puerto aysen',\n",
       " 'peniscola',\n",
       " 'port alfred',\n",
       " 'barreirinha',\n",
       " 'makushino',\n",
       " 'colipapa',\n",
       " 'qamdo',\n",
       " 'lethem',\n",
       " 'kolonia town',\n",
       " 'nema',\n",
       " 'saudarkrokur',\n",
       " 'la ronge',\n",
       " 'port lincoln',\n",
       " 'trairi',\n",
       " \"port saint john's\",\n",
       " 'afaahiti',\n",
       " 'urangan',\n",
       " 'mount pearl',\n",
       " 'nadym',\n",
       " 'hawaiian paradise park',\n",
       " 'tolanaro',\n",
       " 'xining',\n",
       " 'longyearbyen',\n",
       " 'rundu',\n",
       " 'kailua-kona',\n",
       " 'freetown',\n",
       " 'theniet el had',\n",
       " 'merizo village',\n",
       " 'ploneour-lanvern',\n",
       " 'fale old settlement',\n",
       " 'colby',\n",
       " 'chernyshevskiy',\n",
       " 'tambopata',\n",
       " 'cabo san lucas',\n",
       " 'nishon tumani',\n",
       " 'shunyi',\n",
       " 'villa gesell',\n",
       " 'al ghayzah',\n",
       " 'tromso',\n",
       " 'hilo',\n",
       " 'shanwei',\n",
       " 'utrik',\n",
       " 'chifeng',\n",
       " 'port augusta',\n",
       " 'necochea',\n",
       " 'tripoli',\n",
       " \"l'isle-sur-la-sorgue\",\n",
       " 'humberto de campos',\n",
       " 'trincomalee',\n",
       " 'san juan',\n",
       " 'uturoa',\n",
       " 'tarakan',\n",
       " 'bunia',\n",
       " 'mustafakemalpasa',\n",
       " 'ambovombe',\n",
       " 'pangody',\n",
       " 'hammerfest',\n",
       " 'xai-xai',\n",
       " 'el sauzal de rodriguez',\n",
       " 'beroroha',\n",
       " 'tranovaho',\n",
       " 'medicine hat',\n",
       " 'santona',\n",
       " 'fuding',\n",
       " 'nemuro',\n",
       " 'kawthoung',\n",
       " 'beaudesert',\n",
       " 'berdigestyakh',\n",
       " 'enewetak',\n",
       " 'nansio',\n",
       " 'jimena de la frontera',\n",
       " 'salinopolis',\n",
       " 'superior',\n",
       " 'mont-de-marsan',\n",
       " 'kenai',\n",
       " 'naze',\n",
       " 'tual',\n",
       " 'kataragama',\n",
       " 'martapura',\n",
       " 'kodiak',\n",
       " 'black point',\n",
       " 'ati',\n",
       " 'salalah',\n",
       " 'alotau',\n",
       " 'puerto baquerizo moreno',\n",
       " 'nhandeara',\n",
       " 'mosjoen',\n",
       " 'shingu',\n",
       " 'newman',\n",
       " 'palikir - national government center',\n",
       " 'victorica',\n",
       " 'talnakh',\n",
       " 'tidjikja',\n",
       " 'sirumugai',\n",
       " 'bathsheba',\n",
       " 'pemba',\n",
       " 'masvingo',\n",
       " 'luderitz',\n",
       " 'portland',\n",
       " 'akureyri',\n",
       " 'ust-tsilma',\n",
       " 'ambon',\n",
       " 'palmer',\n",
       " 'hassi messaoud',\n",
       " 'camana',\n",
       " 'kodinsk',\n",
       " 'zhangzhou',\n",
       " 'yulinshi',\n",
       " 'ad dujayl',\n",
       " 'kabanga',\n",
       " 'rhinelander',\n",
       " \"'ibri\",\n",
       " 'pacific grove',\n",
       " 'jamestown',\n",
       " 'namtsy',\n",
       " 'linhares',\n",
       " 'sumbawa besar',\n",
       " 'andrelandia',\n",
       " 'bubaque',\n",
       " 'ad dilam',\n",
       " \"vrangel'\",\n",
       " 'babu',\n",
       " 'baloda bazar',\n",
       " \"ha'il\",\n",
       " 'laojunmiao',\n",
       " 'masina',\n",
       " 'santa cruz',\n",
       " 'wau',\n",
       " 'new norfolk',\n",
       " 'porto franco',\n",
       " 'thies',\n",
       " 'at taj',\n",
       " 'vilyuchinsk',\n",
       " 'alice springs',\n",
       " 'pointe aux piments',\n",
       " 'lycksele',\n",
       " 'geraldton',\n",
       " 'xilin hot',\n",
       " 'ancud',\n",
       " 'shuangcheng',\n",
       " 'ola',\n",
       " 'pontotoc',\n",
       " 'makhambet',\n",
       " 'maragogi',\n",
       " 'bayganin',\n",
       " 'kristiansund',\n",
       " 'acapulco de juarez',\n",
       " 'peace river',\n",
       " 'north platte',\n",
       " 'laguna',\n",
       " 'serdar',\n",
       " 'tlahualilo de zaragoza',\n",
       " 'verkhnevilyuysk',\n",
       " 'kourou',\n",
       " 'lovington',\n",
       " 'garbahaarrey',\n",
       " 'katsuura',\n",
       " 'merlo',\n",
       " 'dampit',\n",
       " 'le port',\n",
       " 'allapalli',\n",
       " 'ujae',\n",
       " 'kapuskasing',\n",
       " 'yaguaron',\n",
       " 'maridi',\n",
       " 'kayyerkan',\n",
       " 'alipur',\n",
       " 'carnarvon',\n",
       " 'mbouda',\n",
       " 'ciudad lazaro cardenas',\n",
       " 'verkhniy baskunchak',\n",
       " 'hakui',\n",
       " 'puerto armuelles',\n",
       " 'pedernales',\n",
       " 'saratamata',\n",
       " 'keflavik',\n",
       " 'juhaynah',\n",
       " 'tamiahua',\n",
       " 'houthulst',\n",
       " 'la libertad',\n",
       " 'tomohon',\n",
       " 'nurota',\n",
       " 'san jose village',\n",
       " 'skegness',\n",
       " 'kholmsk',\n",
       " 'sidi ifni',\n",
       " 'waycross',\n",
       " 'lepsy',\n",
       " 'el progreso',\n",
       " 'san patricio',\n",
       " 'nkurenkuru',\n",
       " 'alvaraes',\n",
       " 'polyarnyy',\n",
       " 'mukah',\n",
       " 'lompoc',\n",
       " 'chinde',\n",
       " 'bratsk',\n",
       " 'valparaiso',\n",
       " 'bac lieu',\n",
       " 'metlili chaamba',\n",
       " 'tangalle',\n",
       " 'naters',\n",
       " 'buta',\n",
       " \"ytyk-kyuyel'\",\n",
       " 'junqueiropolis',\n",
       " 'grande prairie',\n",
       " 'oudtshoorn',\n",
       " 'opuwo',\n",
       " 'taltal',\n",
       " 'sakaiminato',\n",
       " 'maposeni',\n",
       " 'al markaz',\n",
       " 'aral',\n",
       " 'wamba',\n",
       " 'alofi',\n",
       " 'el alto',\n",
       " 'moranbah',\n",
       " 'zaozersk',\n",
       " 'canton',\n",
       " 'kismayo',\n",
       " 'usogorsk',\n",
       " 'khovd',\n",
       " 'arris',\n",
       " 'chisec',\n",
       " 'bonnyville',\n",
       " 'markovo',\n",
       " 'mombetsu',\n",
       " 'ocotal',\n",
       " 'tingo maria',\n",
       " 'zemio',\n",
       " 'taksimo',\n",
       " 'dawei',\n",
       " 'long beach',\n",
       " 'isle of lewis',\n",
       " 'garachico',\n",
       " 'carutapera',\n",
       " 'prince rupert',\n",
       " 'barah',\n",
       " 'fannuj',\n",
       " 'grand-lahou',\n",
       " 'valognes',\n",
       " 'oyama',\n",
       " 'majene',\n",
       " 'caluula',\n",
       " 'kerikeri',\n",
       " 'alo',\n",
       " 'dan sadau',\n",
       " 'shimoda',\n",
       " 'kavaratti',\n",
       " 'greymouth',\n",
       " 'chibuto',\n",
       " 'qasr-e qand',\n",
       " 'pasighat',\n",
       " 'quezon',\n",
       " 'howard springs',\n",
       " 'mejit',\n",
       " 'lerwick',\n",
       " 'happy valley-goose bay',\n",
       " 'forest',\n",
       " 'banamba',\n",
       " 'yelizovo',\n",
       " 'coquimbo',\n",
       " 'smithers',\n",
       " 'am djarass',\n",
       " 'dazkiri',\n",
       " 'kuta',\n",
       " 'hono',\n",
       " 'east end',\n",
       " 'mercedes',\n",
       " 'dwarka',\n",
       " 'gorontalo',\n",
       " 'murray bridge',\n",
       " 'ginir',\n",
       " 'murashi',\n",
       " 'gurupi',\n",
       " 'box elder',\n",
       " 'sisimiut',\n",
       " 'bloomfield',\n",
       " 'nova vicosa',\n",
       " 'leticia',\n",
       " 'minas de marcona',\n",
       " 'novodvinsk',\n",
       " 'upington',\n",
       " 'cuyo',\n",
       " 'callao',\n",
       " 'siwa oasis',\n",
       " 'mahina',\n",
       " 'mount isa',\n",
       " 'sao gabriel da cachoeira',\n",
       " 'labrador city',\n",
       " 'walvis bay',\n",
       " 'atar',\n",
       " 'mar del plata',\n",
       " \"hayma'\",\n",
       " 'funafuti',\n",
       " 'eagle pass',\n",
       " 'rosarito',\n",
       " 'rio preto da eva',\n",
       " 'camacupa',\n",
       " 'amungan',\n",
       " 'margate',\n",
       " 'heze',\n",
       " 'beitbridge',\n",
       " 'tionk essil',\n",
       " 'bambang',\n",
       " 'turpan',\n",
       " 'brigantine',\n",
       " 'revda',\n",
       " 'al jawf',\n",
       " 'popondetta',\n",
       " 'kincardine',\n",
       " 'kuraymah',\n",
       " 'noosa heads',\n",
       " 'hotan',\n",
       " 'miri',\n",
       " 'zhalantun',\n",
       " 'fonadhoo',\n",
       " 'askoy',\n",
       " 'matoury',\n",
       " 'dolores',\n",
       " 'shimo-furano',\n",
       " 'mont-dore',\n",
       " 'aasiaat',\n",
       " 'goure',\n",
       " 'hwange',\n",
       " 'ivins',\n",
       " 'inirida',\n",
       " 'adamovka',\n",
       " 'dunedin',\n",
       " 'beatrice',\n",
       " 'goz beida',\n",
       " 'calama',\n",
       " 'jemna',\n",
       " 'san antonio de pale',\n",
       " 'mildura',\n",
       " 'el bauga',\n",
       " 'ad dabbah',\n",
       " 'nouadhibou',\n",
       " 'altai',\n",
       " 'port isabel',\n",
       " 'goderich',\n",
       " 'stavanger',\n",
       " 'onega',\n",
       " 'black river',\n",
       " 'camayenne',\n",
       " 'inarajan village',\n",
       " 'mukalla',\n",
       " 'mikhaylovsk',\n",
       " 'pea ridge',\n",
       " 'devils lake',\n",
       " 'nelson bay',\n",
       " 'colchani',\n",
       " 'puerto deseado',\n",
       " 'pombas',\n",
       " 'sosnovo',\n",
       " 'moengo',\n",
       " 'gizo',\n",
       " 'monrovia',\n",
       " 'santander',\n",
       " 'benguela',\n",
       " 'agadez',\n",
       " 'piet retief']"
      ]
     },
     "execution_count": 3,
     "metadata": {},
     "output_type": "execute_result"
    }
   ],
   "source": [
    "cities"
   ]
  },
  {
   "cell_type": "markdown",
   "metadata": {},
   "source": [
    "## Requirement 1: Create Plots to Showcase the Relationship Between Weather Variables and Latitude\n",
    "\n",
    "### Use the OpenWeatherMap API to retrieve weather data from the cities list generated in the started code"
   ]
  },
  {
   "cell_type": "code",
   "execution_count": 4,
   "metadata": {},
   "outputs": [],
   "source": [
    "# # Set the API base URL\n",
    "# url = f\"https://api.openweathermap.org/data/2.5/weather?appid={weather_api_key}&units=imperial\"\n",
    "\n",
    "# # Define an empty list to fetch the weather data for each city\n",
    "# city_data = []\n",
    "\n",
    "# # Print to logger\n",
    "# print(\"Beginning Data Retrieval     \")\n",
    "# print(\"-----------------------------\")\n",
    "\n",
    "# # Create counters\n",
    "# record_count = 1\n",
    "# set_count = 1\n",
    "\n",
    "# # Loop through all the cities in our list to fetch weather data\n",
    "# for i, city in enumerate(cities[0:10]):\n",
    "        \n",
    "#     # Group cities in sets of 50 for logging purposes\n",
    "#     if (i % 50 == 0 and i >= 50):\n",
    "#         set_count += 1\n",
    "#         record_count = 0\n",
    "\n",
    "#     # Create endpoint URL with each city\n",
    "#     city_url = url + f\"&q={city}\"\n",
    "    \n",
    "#     # Log the url, record, and set numbers\n",
    "#     print(\"Processing Record %s of Set %s | %s\" % (record_count, set_count, city))\n",
    "\n",
    "#     # Add 1 to the record count\n",
    "#     record_count += 1\n",
    "\n",
    "#     # Run an API request for each of the cities\n",
    "#     try:\n",
    "#         # Parse the JSON and retrieve data\n",
    "#         city_weather = requests.get(city_url).json()\n",
    "\n",
    "#         # Parse out latitude, longitude, max temp, humidity, cloudiness, wind speed, country, and date\n",
    "#         city_lat = city_weather[\"coord\"][\"lat\"]\n",
    "#         city_lng = city_weather[\"coord\"][\"lon\"]\n",
    "#         city_max_temp = city_weather[\"main\"][\"temp\"]\n",
    "#         city_humidity = city_weather[\"main\"][\"humidity\"]\n",
    "#         city_clouds = city_weather[\"clouds\"][\"all\"]\n",
    "#         city_wind = city_weather[\"wind\"][\"speed\"]\n",
    "#         city_country = city_weather[\"sys\"][\"country\"]\n",
    "#         city_date = city_weather[\"dt\"]\n",
    "\n",
    "#         # Append the City information into city_data list\n",
    "#         city_data.append({\"City\": city, \n",
    "#                           \"Lat\": city_lat, \n",
    "#                           \"Lng\": city_lng, \n",
    "#                           \"Max Temp\": city_max_temp,\n",
    "#                           \"Humidity\": city_humidity,\n",
    "#                           \"Cloudiness\": city_clouds,\n",
    "#                           \"Wind Speed\": city_wind,\n",
    "#                           \"Country\": city_country,\n",
    "#                           \"Date\": city_date})\n",
    "\n",
    "#     # If an error is experienced, skip the city\n",
    "#     except:\n",
    "#         print(\"City not found. Skipping...\")\n",
    "#         pass\n",
    "    \n",
    "#     # sleep\n",
    "#     time.sleep(1)\n",
    "              \n",
    "# # Indicate that Data Loading is complete \n",
    "# print(\"-----------------------------\")\n",
    "# print(\"Data Retrieval Complete      \")\n",
    "# print(\"-----------------------------\")"
   ]
  },
  {
   "cell_type": "code",
   "execution_count": 5,
   "metadata": {},
   "outputs": [
    {
     "name": "stdout",
     "output_type": "stream",
     "text": [
      "60.7922222 -161.7558333 Bethel\n",
      "1685056969\n",
      "{'coord': {'lon': -161.7558, 'lat': 60.7922}, 'weather': [{'id': 803, 'main': 'Clouds', 'description': 'broken clouds', 'icon': '04d'}], 'base': 'stations', 'main': {'temp': 57.54, 'feels_like': 54.93, 'temp_min': 55.44, 'temp_max': 57.54, 'pressure': 1002, 'humidity': 41}, 'visibility': 10000, 'wind': {'speed': 9.22, 'deg': 90}, 'clouds': {'all': 75}, 'dt': 1685056969, 'sys': {'type': 1, 'id': 7640, 'country': 'US', 'sunrise': 1685022043, 'sunset': 1685087252}, 'timezone': -28800, 'id': 5880568, 'name': 'Bethel', 'cod': 200}\n",
      "9.22\n",
      "bethel was processed successfully.\n",
      "66.411768 112.2517294 Udachny\n",
      "1685057496\n",
      "{'coord': {'lon': 112.2517, 'lat': 66.4118}, 'weather': [{'id': 804, 'main': 'Clouds', 'description': 'overcast clouds', 'icon': '04d'}], 'base': 'stations', 'main': {'temp': 33.8, 'feels_like': 27.66, 'temp_min': 33.8, 'temp_max': 33.8, 'pressure': 1023, 'humidity': 59}, 'visibility': 10000, 'wind': {'speed': 7, 'deg': 280, 'gust': 0}, 'clouds': {'all': 97}, 'dt': 1685057496, 'sys': {'type': 2, 'id': 49565, 'country': 'RU', 'sunrise': 1685037669, 'sunset': 1685112906}, 'timezone': 32400, 'id': 2014624, 'name': 'Udachny', 'cod': 200}\n",
      "7\n",
      "udachny was processed successfully.\n",
      "-33.9531776 115.0769369 Margaret River\n",
      "1685057498\n",
      "{'coord': {'lon': 115.0769, 'lat': -33.9532}, 'weather': [{'id': 800, 'main': 'Clear', 'description': 'clear sky', 'icon': '01d'}], 'base': 'stations', 'main': {'temp': 47.17, 'feels_like': 44.1, 'temp_min': 47.17, 'temp_max': 47.17, 'pressure': 1036, 'humidity': 77, 'sea_level': 1036, 'grnd_level': 1024}, 'visibility': 10000, 'wind': {'speed': 6.38, 'deg': 77, 'gust': 9.53}, 'clouds': {'all': 0}, 'dt': 1685057498, 'sys': {'country': 'AU', 'sunrise': 1685056342, 'sunset': 1685092877}, 'timezone': 28800, 'id': 2066981, 'name': 'Margaret River', 'cod': 200}\n",
      "6.38\n",
      "margaret river was processed successfully.\n",
      "55.743347 -97.863464 Thompson\n",
      "1685057500\n",
      "{'coord': {'lon': -97.8635, 'lat': 55.7433}, 'weather': [{'id': 501, 'main': 'Rain', 'description': 'moderate rain', 'icon': '10d'}, {'id': 701, 'main': 'Mist', 'description': 'mist', 'icon': '50d'}], 'base': 'stations', 'main': {'temp': 55.58, 'feels_like': 55.54, 'temp_min': 55.58, 'temp_max': 55.58, 'pressure': 1016, 'humidity': 100}, 'visibility': 9656, 'wind': {'speed': 3.44, 'deg': 60}, 'rain': {'1h': 2.68}, 'clouds': {'all': 100}, 'dt': 1685057500, 'sys': {'type': 1, 'id': 935, 'country': 'CA', 'sunrise': 1685009043, 'sunset': 1685069582}, 'timezone': -18000, 'id': 6165406, 'name': 'Thompson', 'cod': 200}\n",
      "3.44\n",
      "thompson was processed successfully.\n",
      "11.6511751 106.6070795 Bình Long Town\n",
      "1685057502\n",
      "{'coord': {'lon': 106.6071, 'lat': 11.6512}, 'weather': [{'id': 803, 'main': 'Clouds', 'description': 'broken clouds', 'icon': '04d'}], 'base': 'stations', 'main': {'temp': 81, 'feels_like': 85.86, 'temp_min': 81, 'temp_max': 81, 'pressure': 1010, 'humidity': 77, 'sea_level': 1010, 'grnd_level': 997}, 'visibility': 10000, 'wind': {'speed': 5.28, 'deg': 183, 'gust': 8.63}, 'clouds': {'all': 74}, 'dt': 1685057502, 'sys': {'country': 'VN', 'sunrise': 1685053733, 'sunset': 1685099552}, 'timezone': 25200, 'id': 1575864, 'name': 'Loc Ninh', 'cod': 200}\n",
      "5.28\n",
      "binh long was processed successfully.\n",
      "59.049722 18.266667 Haninge kommun\n",
      "1685057504\n",
      "{'coord': {'lon': 18.2667, 'lat': 59.0497}, 'weather': [{'id': 803, 'main': 'Clouds', 'description': 'broken clouds', 'icon': '04n'}], 'base': 'stations', 'main': {'temp': 48.58, 'feels_like': 43.25, 'temp_min': 48.24, 'temp_max': 49.44, 'pressure': 1016, 'humidity': 85, 'sea_level': 1016, 'grnd_level': 1016}, 'visibility': 10000, 'wind': {'speed': 13.35, 'deg': 222, 'gust': 20.69}, 'clouds': {'all': 56}, 'dt': 1685057504, 'sys': {'type': 2, 'id': 2029414, 'country': 'SE', 'sunrise': 1685066104, 'sunset': 1685129587}, 'timezone': 7200, 'id': 2664339, 'name': 'Vasterhaninge', 'cod': 200}\n",
      "13.35\n",
      "haninge was processed successfully.\n"
     ]
    }
   ],
   "source": [
    "rows = []\n",
    "\n",
    "# loop cities\n",
    "for city in cities[0:6]:\n",
    "    \n",
    "    try:\n",
    "\n",
    "        # geolocation\n",
    "        geo_url = f\"http://api.openweathermap.org/geo/1.0/direct?q={city}&limit=1&appid={weather_api_key}\"\n",
    "        response = requests.get(geo_url)\n",
    "\n",
    "        if (response.status_code == 200):\n",
    "            # do work\n",
    "            geo_data = response.json()\n",
    "\n",
    "            # get lat, lon, country, name\n",
    "            if len(geo_data) > 0:\n",
    "                \n",
    "                lat = geo_data[0].get(\"lat\", np.nan)\n",
    "                lon = geo_data[0].get(\"lon\", np.nan)\n",
    "                country = geo_data[0].get(\"country\", None)\n",
    "                name = geo_data[0].get(\"name\", None)\n",
    "                print(lat,lon,name)\n",
    "\n",
    "        #         print(f\"{city} is located at {lat},{lon}\")\n",
    "\n",
    "                if (lat and lon):\n",
    "                    # weather\n",
    "                    weather_url = f\"https://api.openweathermap.org/data/2.5/weather?lat={lat}&lon={lon}&appid={weather_api_key}&units=imperial\"\n",
    "                    response2 = requests.get(weather_url)\n",
    "\n",
    "                    if (response2.status_code == 200):\n",
    "                        weather_data = response2.json()\n",
    "\n",
    "                        # extract data\n",
    "                        temp = weather_data.get(\"main\", {}).get(\"temp\", np.nan)\n",
    "                        pressure = weather_data.get(\"main\", {}).get(\"pressure\", np.nan)\n",
    "                        humidity = weather_data.get(\"main\", {}).get(\"humidity\", np.nan)\n",
    "                        wind_speed = weather_data.get(\"wind\", {}).get(\"speed\", np.nan)\n",
    "                        cloudiness = weather_data.get(\"clouds\", {}).get(\"all\", np.nan)\n",
    "                        date = wind_speed = weather_data.get(\"dt\", np.nan)\n",
    "                        temp_max=weather_data.get(\"main\", {}).get(\"temp_max\", np.nan)\n",
    "                       \n",
    "                        print(wind_speed)\n",
    "                        print(weather_data)\n",
    "                        print(weather_data['wind'][\"speed\"])\n",
    "                        # build row\n",
    "                        row = {\"city\": name,\n",
    "                               \"country\": country,\n",
    "                               \"latitude\": lat,\n",
    "                               \"longitude\": lon,\n",
    "                               \"temperature\": temp,\n",
    "                               \"pressure\": pressure,\n",
    "                               \"humidity\": humidity,\n",
    "                               \"wind_speed\": weather_data.get(\"wind\", {}).get(\"speed\", np.nan),\n",
    "                              \"cloudiness\": cloudiness,\n",
    "                              \"Max_Temp\": temp_max, \n",
    "                              \"date\": date}\n",
    "\n",
    "            #             print(row)\n",
    "                        rows.append(row)\n",
    "\n",
    "#                     else:\n",
    "#                         print(f\"Getting Weather Data failed with status code: {response2.status_code}. More info below:\")\n",
    "#                         print(weather_data)\n",
    "#                 else:\n",
    "#                     print(\"failed to extract lat and lon from response\")\n",
    "#                     print(geo_data)\n",
    "#             else:\n",
    "#                 print(f\"did not find any geolocation data for city: {city}\")\n",
    "#         else:\n",
    "#             print(f\"Getting geolocation data failed with status code: {response.status_code}. More info below:\")\n",
    "#             print(geo_data)\n",
    "    except Exception as e:\n",
    "        print(f\"Something went terribly wrong for {city}\")\n",
    "        print(e)\n",
    "    \n",
    "    # sleep \n",
    "    print(f\"{city} was processed successfully.\")\n",
    "    time.sleep(1)"
   ]
  },
  {
   "cell_type": "code",
   "execution_count": 6,
   "metadata": {},
   "outputs": [
    {
     "data": {
      "text/plain": [
       "float"
      ]
     },
     "execution_count": 6,
     "metadata": {},
     "output_type": "execute_result"
    }
   ],
   "source": [
    "type( weather_data.get(\"wind\", {}).get(\"speed\", np.nan))"
   ]
  },
  {
   "cell_type": "code",
   "execution_count": 7,
   "metadata": {},
   "outputs": [
    {
     "data": {
      "text/plain": [
       "int"
      ]
     },
     "execution_count": 7,
     "metadata": {},
     "output_type": "execute_result"
    }
   ],
   "source": [
    "type(wind_speed)"
   ]
  },
  {
   "cell_type": "code",
   "execution_count": 8,
   "metadata": {},
   "outputs": [
    {
     "name": "stdout",
     "output_type": "stream",
     "text": [
      "Number of cities in the list: 6\n"
     ]
    }
   ],
   "source": [
    "# Print the city count to confirm sufficient count\n",
    "print(f\"Number of cities in the list: {len(rows)}\")"
   ]
  },
  {
   "cell_type": "code",
   "execution_count": 9,
   "metadata": {},
   "outputs": [
    {
     "data": {
      "text/html": [
       "<div>\n",
       "<style scoped>\n",
       "    .dataframe tbody tr th:only-of-type {\n",
       "        vertical-align: middle;\n",
       "    }\n",
       "\n",
       "    .dataframe tbody tr th {\n",
       "        vertical-align: top;\n",
       "    }\n",
       "\n",
       "    .dataframe thead th {\n",
       "        text-align: right;\n",
       "    }\n",
       "</style>\n",
       "<table border=\"1\" class=\"dataframe\">\n",
       "  <thead>\n",
       "    <tr style=\"text-align: right;\">\n",
       "      <th></th>\n",
       "      <th>city</th>\n",
       "      <th>country</th>\n",
       "      <th>latitude</th>\n",
       "      <th>longitude</th>\n",
       "      <th>temperature</th>\n",
       "      <th>pressure</th>\n",
       "      <th>humidity</th>\n",
       "      <th>wind_speed</th>\n",
       "      <th>cloudiness</th>\n",
       "      <th>Max_Temp</th>\n",
       "      <th>date</th>\n",
       "    </tr>\n",
       "  </thead>\n",
       "  <tbody>\n",
       "    <tr>\n",
       "      <th>0</th>\n",
       "      <td>Bethel</td>\n",
       "      <td>US</td>\n",
       "      <td>60.792222</td>\n",
       "      <td>-161.755833</td>\n",
       "      <td>57.54</td>\n",
       "      <td>1002</td>\n",
       "      <td>41</td>\n",
       "      <td>9.22</td>\n",
       "      <td>75</td>\n",
       "      <td>57.54</td>\n",
       "      <td>1685056969</td>\n",
       "    </tr>\n",
       "    <tr>\n",
       "      <th>1</th>\n",
       "      <td>Udachny</td>\n",
       "      <td>RU</td>\n",
       "      <td>66.411768</td>\n",
       "      <td>112.251729</td>\n",
       "      <td>33.80</td>\n",
       "      <td>1023</td>\n",
       "      <td>59</td>\n",
       "      <td>7.00</td>\n",
       "      <td>97</td>\n",
       "      <td>33.80</td>\n",
       "      <td>1685057496</td>\n",
       "    </tr>\n",
       "    <tr>\n",
       "      <th>2</th>\n",
       "      <td>Margaret River</td>\n",
       "      <td>AU</td>\n",
       "      <td>-33.953178</td>\n",
       "      <td>115.076937</td>\n",
       "      <td>47.17</td>\n",
       "      <td>1036</td>\n",
       "      <td>77</td>\n",
       "      <td>6.38</td>\n",
       "      <td>0</td>\n",
       "      <td>47.17</td>\n",
       "      <td>1685057498</td>\n",
       "    </tr>\n",
       "    <tr>\n",
       "      <th>3</th>\n",
       "      <td>Thompson</td>\n",
       "      <td>CA</td>\n",
       "      <td>55.743347</td>\n",
       "      <td>-97.863464</td>\n",
       "      <td>55.58</td>\n",
       "      <td>1016</td>\n",
       "      <td>100</td>\n",
       "      <td>3.44</td>\n",
       "      <td>100</td>\n",
       "      <td>55.58</td>\n",
       "      <td>1685057500</td>\n",
       "    </tr>\n",
       "    <tr>\n",
       "      <th>4</th>\n",
       "      <td>Bình Long Town</td>\n",
       "      <td>VN</td>\n",
       "      <td>11.651175</td>\n",
       "      <td>106.607079</td>\n",
       "      <td>81.00</td>\n",
       "      <td>1010</td>\n",
       "      <td>77</td>\n",
       "      <td>5.28</td>\n",
       "      <td>74</td>\n",
       "      <td>81.00</td>\n",
       "      <td>1685057502</td>\n",
       "    </tr>\n",
       "    <tr>\n",
       "      <th>5</th>\n",
       "      <td>Haninge kommun</td>\n",
       "      <td>SE</td>\n",
       "      <td>59.049722</td>\n",
       "      <td>18.266667</td>\n",
       "      <td>48.58</td>\n",
       "      <td>1016</td>\n",
       "      <td>85</td>\n",
       "      <td>13.35</td>\n",
       "      <td>56</td>\n",
       "      <td>49.44</td>\n",
       "      <td>1685057504</td>\n",
       "    </tr>\n",
       "  </tbody>\n",
       "</table>\n",
       "</div>"
      ],
      "text/plain": [
       "             city country   latitude   longitude  temperature  pressure  \\\n",
       "0          Bethel      US  60.792222 -161.755833        57.54      1002   \n",
       "1         Udachny      RU  66.411768  112.251729        33.80      1023   \n",
       "2  Margaret River      AU -33.953178  115.076937        47.17      1036   \n",
       "3        Thompson      CA  55.743347  -97.863464        55.58      1016   \n",
       "4  Bình Long Town      VN  11.651175  106.607079        81.00      1010   \n",
       "5  Haninge kommun      SE  59.049722   18.266667        48.58      1016   \n",
       "\n",
       "   humidity  wind_speed  cloudiness  Max_Temp        date  \n",
       "0        41        9.22          75     57.54  1685056969  \n",
       "1        59        7.00          97     33.80  1685057496  \n",
       "2        77        6.38           0     47.17  1685057498  \n",
       "3       100        3.44         100     55.58  1685057500  \n",
       "4        77        5.28          74     81.00  1685057502  \n",
       "5        85       13.35          56     49.44  1685057504  "
      ]
     },
     "execution_count": 9,
     "metadata": {},
     "output_type": "execute_result"
    }
   ],
   "source": [
    "df = pd.DataFrame(rows)\n",
    "df"
   ]
  },
  {
   "cell_type": "code",
   "execution_count": 10,
   "metadata": {},
   "outputs": [
    {
     "data": {
      "text/plain": [
       "city           6\n",
       "country        6\n",
       "latitude       6\n",
       "longitude      6\n",
       "temperature    6\n",
       "pressure       6\n",
       "humidity       6\n",
       "wind_speed     6\n",
       "cloudiness     6\n",
       "Max_Temp       6\n",
       "date           6\n",
       "dtype: int64"
      ]
     },
     "execution_count": 10,
     "metadata": {},
     "output_type": "execute_result"
    }
   ],
   "source": [
    "# Show Record Count\n",
    "df.count()"
   ]
  },
  {
   "cell_type": "code",
   "execution_count": 11,
   "metadata": {},
   "outputs": [
    {
     "data": {
      "text/html": [
       "<div>\n",
       "<style scoped>\n",
       "    .dataframe tbody tr th:only-of-type {\n",
       "        vertical-align: middle;\n",
       "    }\n",
       "\n",
       "    .dataframe tbody tr th {\n",
       "        vertical-align: top;\n",
       "    }\n",
       "\n",
       "    .dataframe thead th {\n",
       "        text-align: right;\n",
       "    }\n",
       "</style>\n",
       "<table border=\"1\" class=\"dataframe\">\n",
       "  <thead>\n",
       "    <tr style=\"text-align: right;\">\n",
       "      <th></th>\n",
       "      <th>city</th>\n",
       "      <th>country</th>\n",
       "      <th>latitude</th>\n",
       "      <th>longitude</th>\n",
       "      <th>temperature</th>\n",
       "      <th>pressure</th>\n",
       "      <th>humidity</th>\n",
       "      <th>wind_speed</th>\n",
       "      <th>cloudiness</th>\n",
       "      <th>Max_Temp</th>\n",
       "      <th>date</th>\n",
       "    </tr>\n",
       "  </thead>\n",
       "  <tbody>\n",
       "    <tr>\n",
       "      <th>0</th>\n",
       "      <td>Bethel</td>\n",
       "      <td>US</td>\n",
       "      <td>60.792222</td>\n",
       "      <td>-161.755833</td>\n",
       "      <td>57.54</td>\n",
       "      <td>1002</td>\n",
       "      <td>41</td>\n",
       "      <td>9.22</td>\n",
       "      <td>75</td>\n",
       "      <td>57.54</td>\n",
       "      <td>1685056969</td>\n",
       "    </tr>\n",
       "    <tr>\n",
       "      <th>1</th>\n",
       "      <td>Udachny</td>\n",
       "      <td>RU</td>\n",
       "      <td>66.411768</td>\n",
       "      <td>112.251729</td>\n",
       "      <td>33.80</td>\n",
       "      <td>1023</td>\n",
       "      <td>59</td>\n",
       "      <td>7.00</td>\n",
       "      <td>97</td>\n",
       "      <td>33.80</td>\n",
       "      <td>1685057496</td>\n",
       "    </tr>\n",
       "    <tr>\n",
       "      <th>2</th>\n",
       "      <td>Margaret River</td>\n",
       "      <td>AU</td>\n",
       "      <td>-33.953178</td>\n",
       "      <td>115.076937</td>\n",
       "      <td>47.17</td>\n",
       "      <td>1036</td>\n",
       "      <td>77</td>\n",
       "      <td>6.38</td>\n",
       "      <td>0</td>\n",
       "      <td>47.17</td>\n",
       "      <td>1685057498</td>\n",
       "    </tr>\n",
       "    <tr>\n",
       "      <th>3</th>\n",
       "      <td>Thompson</td>\n",
       "      <td>CA</td>\n",
       "      <td>55.743347</td>\n",
       "      <td>-97.863464</td>\n",
       "      <td>55.58</td>\n",
       "      <td>1016</td>\n",
       "      <td>100</td>\n",
       "      <td>3.44</td>\n",
       "      <td>100</td>\n",
       "      <td>55.58</td>\n",
       "      <td>1685057500</td>\n",
       "    </tr>\n",
       "    <tr>\n",
       "      <th>4</th>\n",
       "      <td>Bình Long Town</td>\n",
       "      <td>VN</td>\n",
       "      <td>11.651175</td>\n",
       "      <td>106.607079</td>\n",
       "      <td>81.00</td>\n",
       "      <td>1010</td>\n",
       "      <td>77</td>\n",
       "      <td>5.28</td>\n",
       "      <td>74</td>\n",
       "      <td>81.00</td>\n",
       "      <td>1685057502</td>\n",
       "    </tr>\n",
       "  </tbody>\n",
       "</table>\n",
       "</div>"
      ],
      "text/plain": [
       "             city country   latitude   longitude  temperature  pressure  \\\n",
       "0          Bethel      US  60.792222 -161.755833        57.54      1002   \n",
       "1         Udachny      RU  66.411768  112.251729        33.80      1023   \n",
       "2  Margaret River      AU -33.953178  115.076937        47.17      1036   \n",
       "3        Thompson      CA  55.743347  -97.863464        55.58      1016   \n",
       "4  Bình Long Town      VN  11.651175  106.607079        81.00      1010   \n",
       "\n",
       "   humidity  wind_speed  cloudiness  Max_Temp        date  \n",
       "0        41        9.22          75     57.54  1685056969  \n",
       "1        59        7.00          97     33.80  1685057496  \n",
       "2        77        6.38           0     47.17  1685057498  \n",
       "3       100        3.44         100     55.58  1685057500  \n",
       "4        77        5.28          74     81.00  1685057502  "
      ]
     },
     "execution_count": 11,
     "metadata": {},
     "output_type": "execute_result"
    }
   ],
   "source": [
    "# Display sample data\n",
    "df.head()"
   ]
  },
  {
   "cell_type": "code",
   "execution_count": 12,
   "metadata": {},
   "outputs": [],
   "source": [
    "# Export the City_Data into a csv\n",
    "df.to_csv(\"../output_data/cities.csv\", index_label=\"City_ID\")"
   ]
  },
  {
   "cell_type": "code",
   "execution_count": 13,
   "metadata": {},
   "outputs": [
    {
     "data": {
      "text/html": [
       "<div>\n",
       "<style scoped>\n",
       "    .dataframe tbody tr th:only-of-type {\n",
       "        vertical-align: middle;\n",
       "    }\n",
       "\n",
       "    .dataframe tbody tr th {\n",
       "        vertical-align: top;\n",
       "    }\n",
       "\n",
       "    .dataframe thead th {\n",
       "        text-align: right;\n",
       "    }\n",
       "</style>\n",
       "<table border=\"1\" class=\"dataframe\">\n",
       "  <thead>\n",
       "    <tr style=\"text-align: right;\">\n",
       "      <th></th>\n",
       "      <th>city</th>\n",
       "      <th>country</th>\n",
       "      <th>latitude</th>\n",
       "      <th>longitude</th>\n",
       "      <th>temperature</th>\n",
       "      <th>pressure</th>\n",
       "      <th>humidity</th>\n",
       "      <th>wind_speed</th>\n",
       "      <th>cloudiness</th>\n",
       "      <th>Max_Temp</th>\n",
       "      <th>date</th>\n",
       "    </tr>\n",
       "    <tr>\n",
       "      <th>City_ID</th>\n",
       "      <th></th>\n",
       "      <th></th>\n",
       "      <th></th>\n",
       "      <th></th>\n",
       "      <th></th>\n",
       "      <th></th>\n",
       "      <th></th>\n",
       "      <th></th>\n",
       "      <th></th>\n",
       "      <th></th>\n",
       "      <th></th>\n",
       "    </tr>\n",
       "  </thead>\n",
       "  <tbody>\n",
       "    <tr>\n",
       "      <th>0</th>\n",
       "      <td>Bethel</td>\n",
       "      <td>US</td>\n",
       "      <td>60.792222</td>\n",
       "      <td>-161.755833</td>\n",
       "      <td>57.54</td>\n",
       "      <td>1002</td>\n",
       "      <td>41</td>\n",
       "      <td>9.22</td>\n",
       "      <td>75</td>\n",
       "      <td>57.54</td>\n",
       "      <td>1685056969</td>\n",
       "    </tr>\n",
       "    <tr>\n",
       "      <th>1</th>\n",
       "      <td>Udachny</td>\n",
       "      <td>RU</td>\n",
       "      <td>66.411768</td>\n",
       "      <td>112.251729</td>\n",
       "      <td>33.80</td>\n",
       "      <td>1023</td>\n",
       "      <td>59</td>\n",
       "      <td>7.00</td>\n",
       "      <td>97</td>\n",
       "      <td>33.80</td>\n",
       "      <td>1685057496</td>\n",
       "    </tr>\n",
       "    <tr>\n",
       "      <th>2</th>\n",
       "      <td>Margaret River</td>\n",
       "      <td>AU</td>\n",
       "      <td>-33.953178</td>\n",
       "      <td>115.076937</td>\n",
       "      <td>47.17</td>\n",
       "      <td>1036</td>\n",
       "      <td>77</td>\n",
       "      <td>6.38</td>\n",
       "      <td>0</td>\n",
       "      <td>47.17</td>\n",
       "      <td>1685057498</td>\n",
       "    </tr>\n",
       "    <tr>\n",
       "      <th>3</th>\n",
       "      <td>Thompson</td>\n",
       "      <td>CA</td>\n",
       "      <td>55.743347</td>\n",
       "      <td>-97.863464</td>\n",
       "      <td>55.58</td>\n",
       "      <td>1016</td>\n",
       "      <td>100</td>\n",
       "      <td>3.44</td>\n",
       "      <td>100</td>\n",
       "      <td>55.58</td>\n",
       "      <td>1685057500</td>\n",
       "    </tr>\n",
       "    <tr>\n",
       "      <th>4</th>\n",
       "      <td>Bình Long Town</td>\n",
       "      <td>VN</td>\n",
       "      <td>11.651175</td>\n",
       "      <td>106.607079</td>\n",
       "      <td>81.00</td>\n",
       "      <td>1010</td>\n",
       "      <td>77</td>\n",
       "      <td>5.28</td>\n",
       "      <td>74</td>\n",
       "      <td>81.00</td>\n",
       "      <td>1685057502</td>\n",
       "    </tr>\n",
       "  </tbody>\n",
       "</table>\n",
       "</div>"
      ],
      "text/plain": [
       "                   city country   latitude   longitude  temperature  pressure  \\\n",
       "City_ID                                                                         \n",
       "0                Bethel      US  60.792222 -161.755833        57.54      1002   \n",
       "1               Udachny      RU  66.411768  112.251729        33.80      1023   \n",
       "2        Margaret River      AU -33.953178  115.076937        47.17      1036   \n",
       "3              Thompson      CA  55.743347  -97.863464        55.58      1016   \n",
       "4        Bình Long Town      VN  11.651175  106.607079        81.00      1010   \n",
       "\n",
       "         humidity  wind_speed  cloudiness  Max_Temp        date  \n",
       "City_ID                                                          \n",
       "0              41        9.22          75     57.54  1685056969  \n",
       "1              59        7.00          97     33.80  1685057496  \n",
       "2              77        6.38           0     47.17  1685057498  \n",
       "3             100        3.44         100     55.58  1685057500  \n",
       "4              77        5.28          74     81.00  1685057502  "
      ]
     },
     "execution_count": 13,
     "metadata": {},
     "output_type": "execute_result"
    }
   ],
   "source": [
    "# Read saved data\n",
    "df = pd.read_csv(\"../output_data/cities.csv\", index_col=\"City_ID\")\n",
    "\n",
    "# Display sample data\n",
    "df.head()"
   ]
  },
  {
   "cell_type": "markdown",
   "metadata": {},
   "source": [
    "### Create the Scatter Plots Requested\n",
    "\n",
    "#### Latitude Vs. Temperature"
   ]
  },
  {
   "cell_type": "code",
   "execution_count": 14,
   "metadata": {
    "tags": []
   },
   "outputs": [
    {
     "data": {
      "image/png": "[encoded data removed]",
      "text/plain": [
       "<Figure size 1000x600 with 1 Axes>"
      ]
     },
     "metadata": {},
     "output_type": "display_data"
    },
    {
     "data": {
      "text/plain": [
       "<Figure size 640x480 with 0 Axes>"
      ]
     },
     "metadata": {},
     "output_type": "display_data"
    }
   ],
   "source": [
    "# Build scatter plot for latitude vs. temperature\n",
    "# YOUR CODE HERE\n",
    "\n",
    "# Incorporate the other graph properties\n",
    "# YOUR CODE HERE\n",
    "\n",
    "# Save the figure\n",
    "# plt.savefig(\"output_data/Fig1.png\")\n",
    "\n",
    "# Show plot\n",
    "# plt.show()\n",
    "\n",
    "plt.figure(figsize=(10,6))\n",
    "\n",
    "plt.scatter(df.latitude, df.temperature, color=\"#dda15e\", s=150)\n",
    "plt.xlabel(\"latitude\")\n",
    "plt.ylabel(\"temperature (F)\")\n",
    "plt.title(\"Latitude vs Temperature\")\n",
    "plt.grid(axis=\"both\", color=\"lightgrey\", linestyle=\"--\", alpha=0.2)\n",
    "plt.show()\n",
    "\n",
    "# Save the figure\n",
    "plt.savefig(\"../output_data/Fig1.png\")"
   ]
  },
  {
   "cell_type": "markdown",
   "metadata": {},
   "source": [
    "#### Latitude Vs. Humidity"
   ]
  },
  {
   "cell_type": "code",
   "execution_count": 15,
   "metadata": {},
   "outputs": [
    {
     "data": {
      "image/png": "[encoded data removed]",
      "text/plain": [
       "<Figure size 1000x600 with 1 Axes>"
      ]
     },
     "metadata": {},
     "output_type": "display_data"
    },
    {
     "data": {
      "text/plain": [
       "<Figure size 640x480 with 0 Axes>"
      ]
     },
     "metadata": {},
     "output_type": "display_data"
    }
   ],
   "source": [
    "# Build the scatter plots for latitude vs. humidity\n",
    "# YOUR CODE HERE\n",
    "\n",
    "# Incorporate the other graph properties\n",
    "# YOUR CODE HERE\n",
    "\n",
    "# # Save the figure\n",
    "# plt.savefig(\"output_data/Fig2.png\")\n",
    "\n",
    "# # Show plot\n",
    "# plt.show()\n",
    "\n",
    "plt.figure(figsize=(10,6))\n",
    "\n",
    "plt.scatter(df.latitude, df.humidity, color=\"#3BF4FB\", s=150)\n",
    "plt.xlabel(\"latitude\")\n",
    "plt.ylabel(\"humidity\")\n",
    "plt.title(\"Latitude vs Humidity\")\n",
    "plt.grid(axis=\"both\", color=\"lightgrey\", linestyle=\"--\", alpha=0.2)\n",
    "plt.show()\n",
    "\n",
    "# # Save the figure\n",
    "plt.savefig(\"../output_data/Fig2.png\")"
   ]
  },
  {
   "cell_type": "markdown",
   "metadata": {},
   "source": [
    "#### Latitude Vs. Cloudiness"
   ]
  },
  {
   "cell_type": "code",
   "execution_count": 16,
   "metadata": {},
   "outputs": [
    {
     "data": {
      "image/png": "[encoded data removed]",
      "text/plain": [
       "<Figure size 1000x600 with 1 Axes>"
      ]
     },
     "metadata": {},
     "output_type": "display_data"
    },
    {
     "data": {
      "text/plain": [
       "<Figure size 640x480 with 0 Axes>"
      ]
     },
     "metadata": {},
     "output_type": "display_data"
    }
   ],
   "source": [
    "# Build the scatter plots for latitude vs. cloudiness\n",
    "# YOUR CODE HERE\n",
    "\n",
    "# Incorporate the other graph properties\n",
    "# YOUR CODE HERE\n",
    "\n",
    "# # Save the figure\n",
    "# plt.savefig(\"output_data/Fig3.png\")\n",
    "\n",
    "# # Show plot\n",
    "# plt.show()\n",
    "\n",
    "plt.figure(figsize=(10,6))\n",
    "\n",
    "plt.scatter(df.latitude, df.cloudiness, color=\"#CAFF8A\", s=150)\n",
    "plt.xlabel(\"latitude\")\n",
    "plt.ylabel(\"cloudiness\")\n",
    "plt.title(\"Latitude vs cloudiness\")\n",
    "plt.grid(axis=\"both\", color=\"lightgrey\", linestyle=\"--\", alpha=0.2)\n",
    "plt.show()\n",
    "\n",
    "# # # Save the figure\n",
    "plt.savefig(\"../output_data/Fig3.png\")"
   ]
  },
  {
   "cell_type": "markdown",
   "metadata": {},
   "source": [
    "#### Latitude vs. Wind Speed Plot"
   ]
  },
  {
   "cell_type": "code",
   "execution_count": 17,
   "metadata": {},
   "outputs": [
    {
     "data": {
      "image/png": "[encoded data removed]",
      "text/plain": [
       "<Figure size 1000x600 with 1 Axes>"
      ]
     },
     "metadata": {},
     "output_type": "display_data"
    },
    {
     "data": {
      "text/plain": [
       "<Figure size 640x480 with 0 Axes>"
      ]
     },
     "metadata": {},
     "output_type": "display_data"
    }
   ],
   "source": [
    "# Build the scatter plots for latitude vs. wind speed\n",
    "# YOUR CODE HERE\n",
    "\n",
    "# Incorporate the other graph properties\n",
    "# YOUR CODE HERE\n",
    "\n",
    "# # Save the figure\n",
    "# plt.savefig(\"output_data/Fig4.png\")\n",
    "\n",
    "# # Show plot\n",
    "# plt.show()\n",
    "\n",
    "plt.figure(figsize=(10,6))\n",
    "\n",
    "plt.scatter(df.latitude, df.wind_speed, color=\"#FFB7FF\", s=150)\n",
    "plt.xlabel(\"latitude\")\n",
    "plt.ylabel(\"wind_speed\")\n",
    "plt.title(\"Latitude vs cloudiness\")\n",
    "plt.grid(axis=\"both\", color=\"lightgrey\", linestyle=\"--\", alpha=0.2)\n",
    "plt.show()\n",
    "\n",
    "# # # Save the figure\n",
    "plt.savefig(\"../output_data/Fig4.png\")"
   ]
  },
  {
   "cell_type": "markdown",
   "metadata": {},
   "source": [
    "---\n",
    "\n",
    "## Requirement 2: Compute Linear Regression for Each Relationship\n"
   ]
  },
  {
   "cell_type": "code",
   "execution_count": 18,
   "metadata": {},
   "outputs": [],
   "source": [
    "# Define a function to create Linear Regression plots\n",
    "def plot_linear_regression(x_values, y_values, title, text_coordinates):\n",
    "    \n",
    "    # Compute linear regression\n",
    "    (slope, intercept, rvalue, pvalue, stderr) = linregress(x_values, y_values)\n",
    "    regress_values = x_values * slope + intercept\n",
    "    line_eq = \"y = \" + str(round(slope,2)) + \"x + \" + str(round(intercept,2))\n",
    "\n",
    "    # Plot\n",
    "    plt.scatter(x_values,y_values)\n",
    "    plt.plot(x_values,regress_values,\"r-\")\n",
    "    plt.annotate(line_eq,text_coordinates,fontsize=15,color=\"red\")\n",
    "    plt.xlabel(\"Latitude\")\n",
    "    plt.ylabel(title)\n",
    "    print(f\"The r-value is: {rvalue**2}\")\n",
    "    plt.show()"
   ]
  },
  {
   "cell_type": "code",
   "execution_count": 19,
   "metadata": {},
   "outputs": [
    {
     "data": {
      "text/html": [
       "<div>\n",
       "<style scoped>\n",
       "    .dataframe tbody tr th:only-of-type {\n",
       "        vertical-align: middle;\n",
       "    }\n",
       "\n",
       "    .dataframe tbody tr th {\n",
       "        vertical-align: top;\n",
       "    }\n",
       "\n",
       "    .dataframe thead th {\n",
       "        text-align: right;\n",
       "    }\n",
       "</style>\n",
       "<table border=\"1\" class=\"dataframe\">\n",
       "  <thead>\n",
       "    <tr style=\"text-align: right;\">\n",
       "      <th></th>\n",
       "      <th>city</th>\n",
       "      <th>country</th>\n",
       "      <th>latitude</th>\n",
       "      <th>longitude</th>\n",
       "      <th>temperature</th>\n",
       "      <th>pressure</th>\n",
       "      <th>humidity</th>\n",
       "      <th>wind_speed</th>\n",
       "      <th>cloudiness</th>\n",
       "      <th>Max_Temp</th>\n",
       "      <th>date</th>\n",
       "    </tr>\n",
       "  </thead>\n",
       "  <tbody>\n",
       "    <tr>\n",
       "      <th>0</th>\n",
       "      <td>Bethel</td>\n",
       "      <td>US</td>\n",
       "      <td>60.792222</td>\n",
       "      <td>-161.755833</td>\n",
       "      <td>57.54</td>\n",
       "      <td>1002</td>\n",
       "      <td>41</td>\n",
       "      <td>9.22</td>\n",
       "      <td>75</td>\n",
       "      <td>57.54</td>\n",
       "      <td>1685056969</td>\n",
       "    </tr>\n",
       "    <tr>\n",
       "      <th>1</th>\n",
       "      <td>Udachny</td>\n",
       "      <td>RU</td>\n",
       "      <td>66.411768</td>\n",
       "      <td>112.251729</td>\n",
       "      <td>33.80</td>\n",
       "      <td>1023</td>\n",
       "      <td>59</td>\n",
       "      <td>7.00</td>\n",
       "      <td>97</td>\n",
       "      <td>33.80</td>\n",
       "      <td>1685057496</td>\n",
       "    </tr>\n",
       "    <tr>\n",
       "      <th>2</th>\n",
       "      <td>Thompson</td>\n",
       "      <td>CA</td>\n",
       "      <td>55.743347</td>\n",
       "      <td>-97.863464</td>\n",
       "      <td>55.58</td>\n",
       "      <td>1016</td>\n",
       "      <td>100</td>\n",
       "      <td>3.44</td>\n",
       "      <td>100</td>\n",
       "      <td>55.58</td>\n",
       "      <td>1685057500</td>\n",
       "    </tr>\n",
       "    <tr>\n",
       "      <th>3</th>\n",
       "      <td>Bình Long Town</td>\n",
       "      <td>VN</td>\n",
       "      <td>11.651175</td>\n",
       "      <td>106.607079</td>\n",
       "      <td>81.00</td>\n",
       "      <td>1010</td>\n",
       "      <td>77</td>\n",
       "      <td>5.28</td>\n",
       "      <td>74</td>\n",
       "      <td>81.00</td>\n",
       "      <td>1685057502</td>\n",
       "    </tr>\n",
       "    <tr>\n",
       "      <th>4</th>\n",
       "      <td>Haninge kommun</td>\n",
       "      <td>SE</td>\n",
       "      <td>59.049722</td>\n",
       "      <td>18.266667</td>\n",
       "      <td>48.58</td>\n",
       "      <td>1016</td>\n",
       "      <td>85</td>\n",
       "      <td>13.35</td>\n",
       "      <td>56</td>\n",
       "      <td>49.44</td>\n",
       "      <td>1685057504</td>\n",
       "    </tr>\n",
       "  </tbody>\n",
       "</table>\n",
       "</div>"
      ],
      "text/plain": [
       "             city country   latitude   longitude  temperature  pressure  \\\n",
       "0          Bethel      US  60.792222 -161.755833        57.54      1002   \n",
       "1         Udachny      RU  66.411768  112.251729        33.80      1023   \n",
       "2        Thompson      CA  55.743347  -97.863464        55.58      1016   \n",
       "3  Bình Long Town      VN  11.651175  106.607079        81.00      1010   \n",
       "4  Haninge kommun      SE  59.049722   18.266667        48.58      1016   \n",
       "\n",
       "   humidity  wind_speed  cloudiness  Max_Temp        date  \n",
       "0        41        9.22          75     57.54  1685056969  \n",
       "1        59        7.00          97     33.80  1685057496  \n",
       "2       100        3.44         100     55.58  1685057500  \n",
       "3        77        5.28          74     81.00  1685057502  \n",
       "4        85       13.35          56     49.44  1685057504  "
      ]
     },
     "execution_count": 19,
     "metadata": {},
     "output_type": "execute_result"
    }
   ],
   "source": [
    "# Create a DataFrame with the Northern Hemisphere data (Latitude >= 0)\n",
    "northern_hemi_df = df.loc[df.latitude >= 0].reset_index(drop=True)\n",
    "\n",
    "# Display sample data\n",
    "northern_hemi_df.head()"
   ]
  },
  {
   "cell_type": "code",
   "execution_count": 20,
   "metadata": {},
   "outputs": [
    {
     "data": {
      "text/html": [
       "<div>\n",
       "<style scoped>\n",
       "    .dataframe tbody tr th:only-of-type {\n",
       "        vertical-align: middle;\n",
       "    }\n",
       "\n",
       "    .dataframe tbody tr th {\n",
       "        vertical-align: top;\n",
       "    }\n",
       "\n",
       "    .dataframe thead th {\n",
       "        text-align: right;\n",
       "    }\n",
       "</style>\n",
       "<table border=\"1\" class=\"dataframe\">\n",
       "  <thead>\n",
       "    <tr style=\"text-align: right;\">\n",
       "      <th></th>\n",
       "      <th>city</th>\n",
       "      <th>country</th>\n",
       "      <th>latitude</th>\n",
       "      <th>longitude</th>\n",
       "      <th>temperature</th>\n",
       "      <th>pressure</th>\n",
       "      <th>humidity</th>\n",
       "      <th>wind_speed</th>\n",
       "      <th>cloudiness</th>\n",
       "      <th>Max_Temp</th>\n",
       "      <th>date</th>\n",
       "    </tr>\n",
       "  </thead>\n",
       "  <tbody>\n",
       "    <tr>\n",
       "      <th>0</th>\n",
       "      <td>Margaret River</td>\n",
       "      <td>AU</td>\n",
       "      <td>-33.953178</td>\n",
       "      <td>115.076937</td>\n",
       "      <td>47.17</td>\n",
       "      <td>1036</td>\n",
       "      <td>77</td>\n",
       "      <td>6.38</td>\n",
       "      <td>0</td>\n",
       "      <td>47.17</td>\n",
       "      <td>1685057498</td>\n",
       "    </tr>\n",
       "  </tbody>\n",
       "</table>\n",
       "</div>"
      ],
      "text/plain": [
       "             city country   latitude   longitude  temperature  pressure  \\\n",
       "0  Margaret River      AU -33.953178  115.076937        47.17      1036   \n",
       "\n",
       "   humidity  wind_speed  cloudiness  Max_Temp        date  \n",
       "0        77        6.38           0     47.17  1685057498  "
      ]
     },
     "execution_count": 20,
     "metadata": {},
     "output_type": "execute_result"
    }
   ],
   "source": [
    "# Create a DataFrame with the Southern Hemisphere data (Latitude < 0)\n",
    "southern_hemi_df = df.loc[df.latitude < 0].reset_index(drop=True)\n",
    "\n",
    "# Display sample data\n",
    "southern_hemi_df.head()"
   ]
  },
  {
   "cell_type": "markdown",
   "metadata": {},
   "source": [
    "###  Temperature vs. Latitude Linear Regression Plot"
   ]
  },
  {
   "cell_type": "code",
   "execution_count": 21,
   "metadata": {},
   "outputs": [
    {
     "name": "stdout",
     "output_type": "stream",
     "text": [
      "The r-value is: 0.8168755277966248\n"
     ]
    },
    {
     "data": {
      "image/png": "[encoded data removed]",
      "text/plain": [
       "<Figure size 640x480 with 1 Axes>"
      ]
     },
     "metadata": {},
     "output_type": "display_data"
    }
   ],
   "source": [
    "# Linear regression on Northern Hemisphere\n",
    "x_values = northern_hemi_df[\"latitude\"]\n",
    "y_values = northern_hemi_df[\"temperature\"]\n",
    "plot_linear_regression(x_values, y_values, \"temperature\",(6,-10))"
   ]
  },
  {
   "cell_type": "code",
   "execution_count": 22,
   "metadata": {},
   "outputs": [],
   "source": [
    "# RElationship of linear regression Temp vs Lattitude Northern hemisphere \n",
    "# The regression reflects the hight the latitude coordinate the tempature will rise "
   ]
  },
  {
   "cell_type": "code",
   "execution_count": 23,
   "metadata": {},
   "outputs": [
    {
     "name": "stderr",
     "output_type": "stream",
     "text": [
      "C:\\Users\\jenni\\anaconda3\\lib\\site-packages\\scipy\\stats\\_stats_mstats_common.py:182: RuntimeWarning: invalid value encountered in double_scalars\n",
      "  slope = ssxym / ssxm\n",
      "C:\\Users\\jenni\\anaconda3\\lib\\site-packages\\scipy\\stats\\_stats_mstats_common.py:196: RuntimeWarning: invalid value encountered in sqrt\n",
      "  t = r * np.sqrt(df / ((1.0 - r + TINY)*(1.0 + r + TINY)))\n",
      "C:\\Users\\jenni\\anaconda3\\lib\\site-packages\\scipy\\stats\\_stats_mstats_common.py:199: RuntimeWarning: invalid value encountered in double_scalars\n",
      "  slope_stderr = np.sqrt((1 - r**2) * ssym / ssxm / df)\n"
     ]
    },
    {
     "name": "stdout",
     "output_type": "stream",
     "text": [
      "The r-value is: 0.0\n"
     ]
    },
    {
     "data": {
      "image/png": "[encoded data removed]",
      "text/plain": [
       "<Figure size 640x480 with 1 Axes>"
      ]
     },
     "metadata": {},
     "output_type": "display_data"
    }
   ],
   "source": [
    "# Linear regression on Southern Hemisphere\n",
    "x_values = southern_hemi_df[\"latitude\"]\n",
    "y_values = southern_hemi_df[\"temperature\"]\n",
    "plot_linear_regression(x_values, y_values, \"temperature\",(6,-10))"
   ]
  },
  {
   "cell_type": "code",
   "execution_count": 24,
   "metadata": {},
   "outputs": [],
   "source": [
    "# RElationship of linear regression Temp vs Lattitude Southern hemisphere \n",
    "# The regression reflects the lower the latitude coordinate the tempature will fall"
   ]
  },
  {
   "cell_type": "code",
   "execution_count": 25,
   "metadata": {},
   "outputs": [],
   "source": [
    "import statsmodels.api as sm"
   ]
  },
  {
   "cell_type": "code",
   "execution_count": 26,
   "metadata": {},
   "outputs": [
    {
     "name": "stdout",
     "output_type": "stream",
     "text": [
      "                            OLS Regression Results                            \n",
      "==============================================================================\n",
      "Dep. Variable:            temperature   R-squared:                       0.817\n",
      "Model:                            OLS   Adj. R-squared:                  0.756\n",
      "Method:                 Least Squares   F-statistic:                     13.38\n",
      "Date:                Thu, 25 May 2023   Prob (F-statistic):             0.0353\n",
      "Time:                        18:31:51   Log-Likelihood:                -16.495\n",
      "No. Observations:                   5   AIC:                             36.99\n",
      "Df Residuals:                       3   BIC:                             36.21\n",
      "Df Model:                           1                                         \n",
      "Covariance Type:            nonrobust                                         \n",
      "==============================================================================\n",
      "                 coef    std err          t      P>|t|      [0.025      0.975]\n",
      "------------------------------------------------------------------------------\n",
      "const         90.6917     10.388      8.730      0.003      57.631     123.752\n",
      "latitude      -0.6977      0.191     -3.658      0.035      -1.305      -0.091\n",
      "==============================================================================\n",
      "Omnibus:                          nan   Durbin-Watson:                   2.920\n",
      "Prob(Omnibus):                    nan   Jarque-Bera (JB):                0.192\n",
      "Skew:                          -0.237   Prob(JB):                        0.909\n",
      "Kurtosis:                       2.167   Cond. No.                         150.\n",
      "==============================================================================\n",
      "\n",
      "Notes:\n",
      "[1] Standard Errors assume that the covariance matrix of the errors is correctly specified.\n"
     ]
    },
    {
     "name": "stderr",
     "output_type": "stream",
     "text": [
      "C:\\Users\\jenni\\anaconda3\\lib\\site-packages\\statsmodels\\stats\\stattools.py:74: ValueWarning: omni_normtest is not valid with less than 8 observations; 5 samples were given.\n",
      "  warn(\"omni_normtest is not valid with less than 8 observations; %i \"\n"
     ]
    }
   ],
   "source": [
    "X = northern_hemi_df[\"latitude\"]\n",
    "y = northern_hemi_df[\"temperature\"]\n",
    "\n",
    "X = sm.add_constant(X)\n",
    "\n",
    "model = sm.OLS(y, X).fit()\n",
    "predictions = model.predict(X) \n",
    "\n",
    "print_model = model.summary()\n",
    "print(print_model)"
   ]
  },
  {
   "cell_type": "code",
   "execution_count": 27,
   "metadata": {},
   "outputs": [
    {
     "data": {
      "image/png": "[encoded data removed]",
      "text/plain": [
       "<Figure size 640x480 with 1 Axes>"
      ]
     },
     "metadata": {},
     "output_type": "display_data"
    }
   ],
   "source": [
    "plt.scatter(predictions, y)\n",
    "plt.xlabel(\"predictions\")\n",
    "plt.ylabel(\"actual\")\n",
    "plt.title(\"Prediction vs Actual Plot\")\n",
    "plt.plot(y, y)\n",
    "plt.show()"
   ]
  },
  {
   "cell_type": "code",
   "execution_count": 28,
   "metadata": {},
   "outputs": [
    {
     "data": {
      "image/png": "[encoded data removed]",
      "text/plain": [
       "<Figure size 640x480 with 1 Axes>"
      ]
     },
     "metadata": {},
     "output_type": "display_data"
    }
   ],
   "source": [
    "residuals = y - predictions\n",
    "\n",
    "plt.scatter(predictions, residuals)\n",
    "plt.hlines(0, min(predictions), max(predictions))\n",
    "plt.xlabel(\"Prediction\")\n",
    "plt.ylabel(\"Residual\")\n",
    "plt.title(\"Residual Plot\")\n",
    "plt.show()"
   ]
  },
  {
   "cell_type": "markdown",
   "metadata": {},
   "source": [
    "**Discussion about the linear relationship:** YOUR RESPONSE HERE"
   ]
  },
  {
   "cell_type": "markdown",
   "metadata": {},
   "source": [
    "### Humidity vs. Latitude Linear Regression Plot"
   ]
  },
  {
   "cell_type": "markdown",
   "metadata": {},
   "source": [
    "**Discussion about the linear relationship:** YOUR RESPONSE HERE"
   ]
  },
  {
   "cell_type": "code",
   "execution_count": 29,
   "metadata": {},
   "outputs": [],
   "source": [
    "#The lower the latitude coordinate in the southern hemisphere the less humidity and in the northern hemisphere as the latitude \n",
    "#coordinate increases the humidity"
   ]
  },
  {
   "cell_type": "code",
   "execution_count": 30,
   "metadata": {},
   "outputs": [
    {
     "name": "stderr",
     "output_type": "stream",
     "text": [
      "C:\\Users\\jenni\\anaconda3\\lib\\site-packages\\scipy\\stats\\_stats_mstats_common.py:182: RuntimeWarning: invalid value encountered in double_scalars\n",
      "  slope = ssxym / ssxm\n",
      "C:\\Users\\jenni\\anaconda3\\lib\\site-packages\\scipy\\stats\\_stats_mstats_common.py:196: RuntimeWarning: invalid value encountered in sqrt\n",
      "  t = r * np.sqrt(df / ((1.0 - r + TINY)*(1.0 + r + TINY)))\n",
      "C:\\Users\\jenni\\anaconda3\\lib\\site-packages\\scipy\\stats\\_stats_mstats_common.py:199: RuntimeWarning: invalid value encountered in double_scalars\n",
      "  slope_stderr = np.sqrt((1 - r**2) * ssym / ssxm / df)\n"
     ]
    },
    {
     "name": "stdout",
     "output_type": "stream",
     "text": [
      "The r-value is: 0.0\n"
     ]
    },
    {
     "data": {
      "image/png": "[encoded data removed]",
      "text/plain": [
       "<Figure size 640x480 with 1 Axes>"
      ]
     },
     "metadata": {},
     "output_type": "display_data"
    }
   ],
   "source": [
    "# southern Hemisphere \n",
    "x_values = southern_hemi_df[\"latitude\"]\n",
    "y_values = southern_hemi_df[\"humidity\"]\n",
    "plot_linear_regression(x_values, y_values, \"Humidity\",(6,-10))"
   ]
  },
  {
   "cell_type": "code",
   "execution_count": 31,
   "metadata": {},
   "outputs": [
    {
     "name": "stdout",
     "output_type": "stream",
     "text": [
      "The r-value is: 0.05159833891040082\n"
     ]
    },
    {
     "data": {
      "image/png": "[encoded data removed]",
      "text/plain": [
       "<Figure size 640x480 with 1 Axes>"
      ]
     },
     "metadata": {},
     "output_type": "display_data"
    }
   ],
   "source": [
    "#Northern Hemisphere \n",
    "x_values = northern_hemi_df[\"latitude\"]\n",
    "y_values = northern_hemi_df[\"humidity\"]\n",
    "plot_linear_regression(x_values, y_values, \"humidity\",(6,-10))"
   ]
  },
  {
   "cell_type": "markdown",
   "metadata": {},
   "source": [
    "### Cloudiness vs. Latitude Linear Regression Plot"
   ]
  },
  {
   "cell_type": "code",
   "execution_count": 32,
   "metadata": {},
   "outputs": [
    {
     "name": "stdout",
     "output_type": "stream",
     "text": [
      "The r-value is: 0.0\n"
     ]
    },
    {
     "data": {
      "image/png": "[encoded data removed]",
      "text/plain": [
       "<Figure size 640x480 with 1 Axes>"
      ]
     },
     "metadata": {},
     "output_type": "display_data"
    }
   ],
   "source": [
    "# Southern Hemisphere\n",
    "x_values = southern_hemi_df[\"latitude\"]\n",
    "y_values = southern_hemi_df[\"cloudiness\"]\n",
    "plot_linear_regression(x_values, y_values, \"cloudiness\",(6,-10))"
   ]
  },
  {
   "cell_type": "code",
   "execution_count": 33,
   "metadata": {},
   "outputs": [
    {
     "name": "stdout",
     "output_type": "stream",
     "text": [
      "The r-value is: 0.047316839690244146\n"
     ]
    },
    {
     "data": {
      "image/png": "[encoded data removed]",
      "text/plain": [
       "<Figure size 640x480 with 1 Axes>"
      ]
     },
     "metadata": {},
     "output_type": "display_data"
    }
   ],
   "source": [
    "# Northern Hemisphere\n",
    "x_values = northern_hemi_df[\"latitude\"]\n",
    "y_values = northern_hemi_df[\"cloudiness\"]\n",
    "plot_linear_regression(x_values, y_values, \"cloudiness\",(6,-10))"
   ]
  },
  {
   "cell_type": "markdown",
   "metadata": {},
   "source": [
    "**Discussion about the linear relationship:** YOUR RESPONSE HERE"
   ]
  },
  {
   "cell_type": "code",
   "execution_count": 34,
   "metadata": {},
   "outputs": [],
   "source": [
    "# as the latitude in the northern hemisphere increases the cloudiness decreases \n",
    "# in the southern hemisphere as the latitude decreases the cloudiness increases "
   ]
  },
  {
   "cell_type": "markdown",
   "metadata": {},
   "source": [
    "### Wind Speed vs. Latitude Linear Regression Plot"
   ]
  },
  {
   "cell_type": "code",
   "execution_count": 35,
   "metadata": {},
   "outputs": [
    {
     "name": "stdout",
     "output_type": "stream",
     "text": [
      "The r-value is: 0.0\n"
     ]
    },
    {
     "data": {
      "image/png": "[encoded data removed]",
      "text/plain": [
       "<Figure size 640x480 with 1 Axes>"
      ]
     },
     "metadata": {},
     "output_type": "display_data"
    }
   ],
   "source": [
    "# Southern Hemisphere\n",
    "x_values = southern_hemi_df[\"latitude\"]\n",
    "y_values = southern_hemi_df[\"wind_speed\"]\n",
    "plot_linear_regression(x_values, y_values, \"wind_speed\",(6,-10))"
   ]
  },
  {
   "cell_type": "code",
   "execution_count": 36,
   "metadata": {},
   "outputs": [
    {
     "name": "stdout",
     "output_type": "stream",
     "text": [
      "The r-value is: 0.13417008526781085\n"
     ]
    },
    {
     "data": {
      "image/png": "[encoded data removed]",
      "text/plain": [
       "<Figure size 640x480 with 1 Axes>"
      ]
     },
     "metadata": {},
     "output_type": "display_data"
    }
   ],
   "source": [
    "# Northhern Hemisphere\n",
    "x_values = northern_hemi_df[\"latitude\"]\n",
    "y_values = northern_hemi_df[\"wind_speed\"]\n",
    "plot_linear_regression(x_values, y_values, \"wind_speed\",(6,-10))"
   ]
  },
  {
   "cell_type": "markdown",
   "metadata": {},
   "source": [
    "**Discussion about the linear relationship:** YOUR RESPONSE HERE"
   ]
  },
  {
   "cell_type": "code",
   "execution_count": 37,
   "metadata": {},
   "outputs": [],
   "source": [
    "# in the northernhemisphere as the latitude coordinate increases the windspeed decreases \n",
    "# in the Southernhemisphere as the latitude coordinate decreases the windspeed increases "
   ]
  }
 ],
 "metadata": {
  "anaconda-cloud": {},
  "kernel_info": {
   "name": "python3"
  },
  "kernelspec": {
   "display_name": "Python 3 (ipykernel)",
   "language": "python",
   "name": "python3"
  },
  "language_info": {
   "codemirror_mode": {
    "name": "ipython",
    "version": 3
   },
   "file_extension": ".py",
   "mimetype": "text/x-python",
   "name": "python",
   "nbconvert_exporter": "python",
   "pygments_lexer": "ipython3",
   "version": "3.10.9"
  },
  "latex_envs": {
   "LaTeX_envs_menu_present": true,
   "autoclose": false,
   "autocomplete": true,
   "bibliofile": "biblio.bib",
   "cite_by": "apalike",
   "current_citInitial": 1,
   "eqLabelWithNumbers": true,
   "eqNumInitial": 1,
   "hotkeys": {
    "equation": "Ctrl-E",
    "itemize": "Ctrl-I"
   },
   "labels_anchors": false,
   "latex_user_defs": false,
   "report_style_numbering": false,
   "user_envs_cfg": false
  },
  "nteract": {
   "version": "0.12.3"
  }
 },
 "nbformat": 4,
 "nbformat_minor": 4
}
